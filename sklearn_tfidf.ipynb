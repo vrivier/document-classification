{
 "cells": [
  {
   "cell_type": "markdown",
   "metadata": {
    "id": "-WvdsOciMVg2"
   },
   "source": [
    "---\n",
    "### Introduction"
   ]
  },
  {
   "cell_type": "markdown",
   "metadata": {
    "id": "3DuVDgexMaSc"
   },
   "source": [
    "Tf-idf is a renowned NLP technique for vectorizing documents. I then decided to investigate it a bit deeper to see how it works and what it can and cannot do (what kind of tasks you should use it for).  \n",
    "&nbsp;  \n",
    "In this notebook, I do mainly two things :  \n",
    "1 - compare a bag-of-word vectorization vs a tf-idf vectorization on a text classification task with the 20newsgroups dataset  \n",
    "2 - I build code to get the most and least important words in a document according to the tf-idf weights  \n",
    "&nbsp;  \n",
    "This project has been very instructive, particularly the second part during which I learned a lot on numpy arrays and how you can index on them (with nonzero() and argsort function() ). I also learned tf-idf is especially good for text classification (or information retrieval).  "
   ]
  },
  {
   "cell_type": "markdown",
   "metadata": {
    "id": "JdXtnHC7f7PM"
   },
   "source": [
    "\n",
    "\n",
    "---\n",
    "\n",
    "### Simple bow vs Tf-idf"
   ]
  },
  {
   "cell_type": "markdown",
   "metadata": {
    "id": "Ve8jvCOqR_x4"
   },
   "source": [
    "In this first part, we will simply load the 20newsgroups dataset, vectorize it with bag-of-words and tf-idf and train two SGD classifiers to see which one performs better."
   ]
  },
  {
   "cell_type": "code",
   "execution_count": 2,
   "metadata": {
    "colab": {
     "base_uri": "https://localhost:8080/"
    },
    "id": "zs3g0aJq7S5o",
    "outputId": "7ada488d-a81f-466f-81bb-37d611d02eaa"
   },
   "outputs": [
    {
     "name": "stdout",
     "output_type": "stream",
     "text": [
      "2823 documents\n",
      "5 categories\n",
      "bag-of-words f1-score : 0.8526912181303116\n",
      "tf-idf f1-score : 0.9008498583569405\n"
     ]
    }
   ],
   "source": [
    "from sklearn.datasets import fetch_20newsgroups\n",
    "from sklearn.model_selection import train_test_split\n",
    "from sklearn.feature_extraction.text import CountVectorizer, TfidfTransformer\n",
    "from sklearn.linear_model import SGDClassifier\n",
    "from sklearn.metrics import f1_score\n",
    "\n",
    "# Loading dataset containing first five categories\n",
    "categories=[\n",
    "        \"alt.atheism\",\n",
    "        \"comp.graphics\",\n",
    "        \"comp.os.ms-windows.misc\",\n",
    "        \"comp.sys.ibm.pc.hardware\",\n",
    "        \"comp.sys.mac.hardware\",\n",
    "    ]\n",
    "data = fetch_20newsgroups(\n",
    "    subset=\"train\",\n",
    "    categories=categories,\n",
    ")\n",
    "\n",
    "print(\"%d documents\" % len(data.filenames))\n",
    "print(\"%d categories\" % len(data.target_names))\n",
    "\n",
    "# extracting and splitting the data\n",
    "X, y = data.data, data.target\n",
    "X_train, X_test, y_train, y_test = train_test_split(X, y)\n",
    "\n",
    "# vectorizing as bag-of-words\n",
    "vectorizer = CountVectorizer()\n",
    "vectorizer.fit(X_train)\n",
    "X_train_bow = vectorizer.transform(X_train)\n",
    "X_test_bow = vectorizer.transform(X_test)\n",
    "\n",
    "# training a classifier with bag-of-words and evaluating\n",
    "classifier = SGDClassifier()\n",
    "classifier.fit(X_train_bow, y_train)\n",
    "y_pred = classifier.predict(X_test_bow)\n",
    "f1_score_bow = f1_score(y_test, y_pred, average='micro')\n",
    "print('bag-of-words f1-score :', f1_score_bow)\n",
    "\n",
    "# vectorizing as tf-idf\n",
    "tf_idf = TfidfTransformer()\n",
    "tf_idf.fit(X_train_bow)\n",
    "X_train_tfidf = tf_idf.transform(X_train_bow)\n",
    "X_test_tfidf = tf_idf.transform(X_test_bow)\n",
    "\n",
    "# training a classifier with tf-idf and evaluating\n",
    "classifier_tfidf = SGDClassifier()\n",
    "classifier_tfidf.fit(X_train_tfidf, y_train)\n",
    "y_pred_tfidf = classifier_tfidf.predict(X_test_tfidf)\n",
    "f1_score_tfidf = f1_score(y_test, y_pred_tfidf, average='micro')\n",
    "print('tf-idf f1-score :', f1_score_tfidf)"
   ]
  },
  {
   "cell_type": "markdown",
   "metadata": {
    "id": "Bcnxg4pJS0Xz"
   },
   "source": [
    "\n",
    "\n",
    "*   **Results :**\n",
    "\n",
    "As we can see, tf-idf indeed does better that bag-of-words on classification task. It averages a +0.05 on f1-score with bag-of-words achieving around 0.85 and tf-idf around 0.9."
   ]
  },
  {
   "cell_type": "markdown",
   "metadata": {
    "id": "3cYSpY4cTmNK"
   },
   "source": [
    "\n",
    "\n",
    "*   **Visualisation :**\n",
    "\n",
    "The following confusion matrix shows what are the well predicted categories and the more difficult ones.  \n",
    "We can see that there is no ambiguity on the first row/column where the category is \"athletism\" vs the other categories related to technology. "
   ]
  },
  {
   "cell_type": "code",
   "execution_count": 97,
   "metadata": {
    "colab": {
     "base_uri": "https://localhost:8080/",
     "height": 0
    },
    "id": "nkFBZN1iL-Su",
    "outputId": "7a4e57ca-462d-430a-fc57-171f14eae63c"
   },
   "outputs": [
    {
     "data": {
      "image/png": "[encoded data removed]",
      "text/plain": [
       "<Figure size 640x480 with 2 Axes>"
      ]
     },
     "metadata": {},
     "output_type": "display_data"
    },
    {
     "name": "stdout",
     "output_type": "stream",
     "text": [
      "[(0, 'alt.atheism'),\n",
      " (1, 'comp.graphics'),\n",
      " (2, 'comp.os.ms-windows.misc'),\n",
      " (3, 'comp.sys.ibm.pc.hardware'),\n",
      " (4, 'comp.sys.mac.hardware')]\n"
     ]
    }
   ],
   "source": [
    "import matplotlib.pyplot as plt\n",
    "from sklearn.metrics import confusion_matrix, ConfusionMatrixDisplay\n",
    "cm = confusion_matrix(y_test, y_pred_tfidf, labels=classifier_tfidf.classes_)\n",
    "disp = ConfusionMatrixDisplay(confusion_matrix=cm,\n",
    "                               display_labels=range(len(categories)))\n",
    "disp.plot()\n",
    "plt.show()\n",
    "pprint([(x, categories[x]) for x in range(len(categories))])"
   ]
  },
  {
   "cell_type": "markdown",
   "metadata": {
    "id": "rfnaRbj5st9-"
   },
   "source": [
    "\n",
    "\n",
    "---\n",
    "\n",
    "\n",
    "\n",
    "### In depth\n",
    "(numpy vectors manipulation)"
   ]
  },
  {
   "cell_type": "markdown",
   "metadata": {
    "id": "E2NSlFVsGDID"
   },
   "source": [
    "\n",
    "\n",
    "> What are the most important words for a given document?\n",
    "\n",
    "\n",
    "  \n",
    "Before begining to answer that question, let us make a few imports and build useful variables.  \n",
    "  \n",
    "Numpy will become the main library for that part since it includes a lot of tricky vector manipulation."
   ]
  },
  {
   "cell_type": "code",
   "execution_count": 3,
   "metadata": {
    "id": "LgwU3txvfrYX"
   },
   "outputs": [],
   "source": [
    "import numpy as np\n",
    "\n",
    "from pprint import pprint\n",
    "import pandas as pd"
   ]
  },
  {
   "cell_type": "markdown",
   "metadata": {
    "id": "o496BcC2WudT"
   },
   "source": [
    "We build X_train_preprocessed that corresponds to the documents preprocessed with CountVectorizer's automatic function when fitting/transforming : build_analyzer()."
   ]
  },
  {
   "cell_type": "code",
   "execution_count": 4,
   "metadata": {
    "colab": {
     "base_uri": "https://localhost:8080/",
     "height": 53
    },
    "id": "WSn6BqADd5fk",
    "outputId": "9fc5d964-9a49-4f8f-bc36-7ab08fdb4178"
   },
   "outputs": [
    {
     "data": {
      "application/vnd.google.colaboratory.intrinsic+json": {
       "type": "string"
      },
      "text/plain": [
       "'from joel tekgen bv tek com joseph look subject bar code fonts organization tektronix inc lines am looking for some bar code fonts especially code of did anybody know any ftp sites or bbs that can download these types of fonts please email to me if you have any info thanks'"
      ]
     },
     "execution_count": 4,
     "metadata": {},
     "output_type": "execute_result"
    }
   ],
   "source": [
    "analyzer = vectorizer.build_analyzer()\n",
    "X_train_preprocessed = []\n",
    "for elt in X_train:\n",
    "  X_train_preprocessed.append(' '.join(analyzer(elt)))\n",
    "X_train_preprocessed[0]"
   ]
  },
  {
   "cell_type": "markdown",
   "metadata": {
    "id": "z29CT5UMW22P"
   },
   "source": [
    "We also build a useful index to word list of the vocabulary."
   ]
  },
  {
   "cell_type": "code",
   "execution_count": 5,
   "metadata": {
    "id": "bQMPJ-EkIecp"
   },
   "outputs": [],
   "source": [
    "w2i = vectorizer.vocabulary_ # word to index dictionnary\n",
    "i2w = {v: k for k, v in w2i.items()} # reversing dictionnary"
   ]
  },
  {
   "cell_type": "markdown",
   "metadata": {
    "id": "WC-iJSB5YGOO"
   },
   "source": [
    "Finally, we will randomly select a document from the dataset, and have a look at it."
   ]
  },
  {
   "cell_type": "code",
   "execution_count": 37,
   "metadata": {
    "colab": {
     "base_uri": "https://localhost:8080/"
    },
    "id": "RYeXuOjJYTdF",
    "outputId": "200f7ba4-68ab-4327-db07-d917d4635e05"
   },
   "outputs": [
    {
     "name": "stdout",
     "output_type": "stream",
     "text": [
      "\n",
      "document n° 1118 , category: comp.sys.mac.hardware \n",
      "\n",
      "['From: bredell@tdb.uu.se (Mats Bredell)',\n",
      " 'Subject: Re: Quadra 900 startup w/out monitor...ya right.',\n",
      " 'Reply-To: Mats.Bredell@udac.uu.se',\n",
      " 'Organization: Uppsala University Computing Center (UDAC)',\n",
      " 'X-Newsreader: TIN [version 1.1 PL6]',\n",
      " 'Lines: 16',\n",
      " '',\n",
      " 'Shawn FitzGerald (chungkuo@umcc.umcc.umich.edu) wrote:',\n",
      " ': Is there a fix for this? We have a Quadra 900 that will NOT finish startup',\n",
      " ': unless there is a monitor connected. This would be no problem, but since',\n",
      " \": we're running it as a file server, there is no need to have a monitor\",\n",
      " ': connected all the time.',\n",
      " '',\n",
      " \"I've seen a control panel made for this. I don't remember the name, where I\",\n",
      " 'saw it, or on what Quadra models it will work. But I do know it exists :)',\n",
      " '',\n",
      " '/Mats',\n",
      " '',\n",
      " '-- ',\n",
      " 'Mats Bredell                                   Mats.Bredell@udac.uu.se',\n",
      " 'Uppsala University Computing Center (UDAC)     Ph:  +46 18 187817',\n",
      " 'Department of medical systems                  Fax: +46 18 187825',\n",
      " 'Sweden                                         Think straight - be gay!',\n",
      " '']\n"
     ]
    }
   ],
   "source": [
    "import random\n",
    "\n",
    "random_number = random.randrange(0,len(X_train)) # getting a random document\n",
    "document = X_train[random_number]\n",
    "splitted_document = document.split('\\n')\n",
    "\n",
    "for line in splitted_document: # extracting document's subject\n",
    "  if line.split()[0] == 'Subject:':\n",
    "    subject = line\n",
    "    break\n",
    "\n",
    "print('\\ndocument n°',random_number, ',', 'category:', categories[y_train[random_number]], '\\n')\n",
    "pprint(splitted_document)"
   ]
  },
  {
   "cell_type": "markdown",
   "metadata": {
    "id": "zsdwrD6oYX4O"
   },
   "source": [
    "These documents are emails. Maybe getting rid of some parts of the emails could improve the classification."
   ]
  },
  {
   "cell_type": "code",
   "execution_count": 38,
   "metadata": {
    "id": "g2yzuFeFtUNy"
   },
   "outputs": [],
   "source": [
    "# document_number = random_number"
   ]
  },
  {
   "cell_type": "markdown",
   "metadata": {
    "id": "Fs24g7-XLrw3"
   },
   "source": [
    "To answer the \"most important words\" question, we first need to get the tf-idf weights of the document.  \n",
    "To do so, I followed the following steps :  \n",
    "1- get the document vector stored in X_train_tfidf  \n",
    "2- since it is sparse, get the values indices with numpy nonzero() function  \n",
    "3- give these indices to the sparse vector"
   ]
  },
  {
   "cell_type": "code",
   "execution_count": 39,
   "metadata": {
    "colab": {
     "base_uri": "https://localhost:8080/"
    },
    "id": "LDVUNa5asojG",
    "outputId": "361070f2-b578-41be-9e30-cede3d82299b"
   },
   "outputs": [
    {
     "data": {
      "text/plain": [
       "matrix([[0.03856996, 0.09458546, 0.09604477, 0.09604477, 0.12599018,\n",
       "         0.14194077, 0.0254257 , 0.0239195 , 0.03982911, 0.48022386,\n",
       "         0.04090113, 0.10001984, 0.09115558, 0.10600505, 0.12932188,\n",
       "         0.05069136, 0.04772343, 0.0244327 , 0.02801336, 0.01732915,\n",
       "         0.05723083, 0.04290754, 0.03836644, 0.08093867, 0.08768664,\n",
       "         0.05699204, 0.03245289, 0.01205823, 0.08279745, 0.03650799,\n",
       "         0.04596061, 0.06335435, 0.02639519, 0.01208102, 0.04580216,\n",
       "         0.38318899, 0.07023936, 0.06511602, 0.1382577 , 0.04667422,\n",
       "         0.03227763, 0.04276137, 0.05401756, 0.02059993, 0.01416822,\n",
       "         0.0187197 , 0.02051927, 0.01254028, 0.02801336, 0.06422241,\n",
       "         0.06827967, 0.06422241, 0.03366368, 0.15654576, 0.03616778,\n",
       "         0.05171509, 0.0320963 , 0.03787218, 0.04335696, 0.05904948,\n",
       "         0.15800266, 0.04430942, 0.05723083, 0.08768664, 0.03782385,\n",
       "         0.12599018, 0.06558895, 0.01205823, 0.06769135, 0.04298129,\n",
       "         0.09115558, 0.01693035, 0.02606009, 0.06928708, 0.03139708,\n",
       "         0.05651696, 0.03418727, 0.04398351, 0.0269399 , 0.38417909,\n",
       "         0.16187733, 0.05608155, 0.04425229, 0.05234163, 0.19208954,\n",
       "         0.20483901, 0.03411613, 0.03620165, 0.06638938, 0.02427486,\n",
       "         0.03530804, 0.05212658, 0.03499884, 0.02522045, 0.04069681,\n",
       "         0.07258054]])"
      ]
     },
     "execution_count": 39,
     "metadata": {},
     "output_type": "execute_result"
    }
   ],
   "source": [
    "document_tfidf = X_train_tfidf[random_number]\n",
    "non_zero_values_indices = document_tfidf.toarray().nonzero()\n",
    "non_zero_values = document_tfidf[non_zero_values_indices]\n",
    "non_zero_values"
   ]
  },
  {
   "cell_type": "markdown",
   "metadata": {
    "id": "iOLzBbJgMJ2y"
   },
   "source": [
    "Then we sort this vector using numpy **argsort()** (more details in the code section)."
   ]
  },
  {
   "cell_type": "code",
   "execution_count": 75,
   "metadata": {
    "colab": {
     "base_uri": "https://localhost:8080/"
    },
    "id": "cw8Fujqzu_F7",
    "outputId": "768ce6ae-b2a6-4882-8f1b-86dbf501e2f3"
   },
   "outputs": [
    {
     "data": {
      "text/plain": [
       "array([0.48022386, 0.38417909, 0.38318899, 0.20483901, 0.19208954,\n",
       "       0.16187733, 0.15800266, 0.15654576, 0.14194077, 0.1382577 ,\n",
       "       0.12932188, 0.12599018, 0.12599018, 0.10600505, 0.10001984,\n",
       "       0.09604477, 0.09604477, 0.09458546, 0.09115558, 0.09115558,\n",
       "       0.08768664, 0.08768664, 0.08279745, 0.08093867, 0.07258054,\n",
       "       0.07023936, 0.06928708, 0.06827967, 0.06769135, 0.06638938,\n",
       "       0.06558895, 0.06511602, 0.06422241, 0.06422241, 0.06335435,\n",
       "       0.05904948, 0.05723083, 0.05723083, 0.05699204, 0.05651696,\n",
       "       0.05608155, 0.05401756, 0.05234163, 0.05212658, 0.05171509,\n",
       "       0.05069136, 0.04772343, 0.04667422, 0.04596061, 0.04580216,\n",
       "       0.04430942, 0.04425229, 0.04398351, 0.04335696, 0.04298129,\n",
       "       0.04290754, 0.04276137, 0.04090113, 0.04069681, 0.03982911,\n",
       "       0.03856996, 0.03836644, 0.03787218, 0.03782385, 0.03650799,\n",
       "       0.03620165, 0.03616778, 0.03530804, 0.03499884, 0.03418727,\n",
       "       0.03411613, 0.03366368, 0.03245289, 0.03227763, 0.0320963 ,\n",
       "       0.03139708, 0.02801336, 0.02801336, 0.0269399 , 0.02639519,\n",
       "       0.02606009, 0.0254257 , 0.02522045, 0.0244327 , 0.02427486,\n",
       "       0.0239195 , 0.02059993, 0.02051927, 0.0187197 , 0.01732915,\n",
       "       0.01693035, 0.01416822, 0.01254028, 0.01208102, 0.01205823,\n",
       "       0.01205823])"
      ]
     },
     "execution_count": 75,
     "metadata": {},
     "output_type": "execute_result"
    }
   ],
   "source": [
    "non_zero_values_array = np.squeeze(np.asarray(non_zero_values)) # matrix shape to array shape\n",
    "ascending_sorted_weight_indices = non_zero_values_array.argsort()[::-1] # getting sorting indices (descending order)\n",
    "ascending_sorted_weights = non_zero_values_array[ascending_sorted_weight_indices] # sorting weights vector\n",
    "ascending_sorted_weights"
   ]
  },
  {
   "cell_type": "markdown",
   "metadata": {
    "id": "xaMGS4DxOvRw"
   },
   "source": [
    "Since **the positions in the vectors correspond to word indices in the vocabulary**, the indices returned by the **nonzero()** function correspond to the words present in the document. We can then use the sorted weight indices returned by **argsort()** function and give them to the output of **nonzero()** to get our document words sorted by their tf-idf weights."
   ]
  },
  {
   "cell_type": "code",
   "execution_count": 77,
   "metadata": {
    "colab": {
     "base_uri": "https://localhost:8080/"
    },
    "id": "P-q_As0q4lNw",
    "outputId": "1b69eb96-f702-45dc-ffc9-76c5b28d0416"
   },
   "outputs": [
    {
     "data": {
      "text/plain": [
       "array([15445, 49723, 33837, 50561, 50349, 49942, 45099, 42070,  9911,\n",
       "       35502, 18029, 46782,  5562, 17910, 16708,  1982,  1981,  1934,\n",
       "       48027, 17100, 45496, 23489, 24628, 23446, 54091, 34245, 48351,\n",
       "       39870, 47425, 52288, 46941, 35423, 39310, 40161, 28878, 44804,\n",
       "       45325, 22499, 23496, 48402, 49953, 37385, 50167, 52558, 43172,\n",
       "       18192, 19751, 36732, 28784, 33472, 45188, 50149, 48563, 44272,\n",
       "       47563, 23034, 37078, 15744, 53006, 14467,  1708, 23388, 43605,\n",
       "       45778, 26140, 51152, 42785, 52448, 52867, 48544, 51051, 40887,\n",
       "       23784, 36932, 43256, 48390, 38816, 20585, 48691, 30868, 48313,\n",
       "       12637, 52920, 20506, 52437, 13374, 37489, 38605, 38445, 21424,\n",
       "       48308, 38207, 38652, 31990, 47075, 24054])"
      ]
     },
     "execution_count": 77,
     "metadata": {},
     "output_type": "execute_result"
    }
   ],
   "source": [
    "sorted_word_indices = non_zero_values_indices[1][ascending_sorted_weight_indices]\n",
    "sorted_word_indices"
   ]
  },
  {
   "cell_type": "code",
   "execution_count": 78,
   "metadata": {
    "id": "lUvXtipay8eq"
   },
   "outputs": [],
   "source": [
    "sorted_document_words = [i2w[x] for x in sorted_word_indices]"
   ]
  },
  {
   "cell_type": "markdown",
   "metadata": {
    "id": "bfKm3E0MP9yE"
   },
   "source": [
    "We finally have our result : the words sorted by their tf-idf weights!\n",
    "\n",
    "We can then know what words were more or less informative in the classification decision by looking to the begining of the list (less informative) or to its end (more informative).  \n",
    "  \n",
    "The remaining code will just give us a nice visual with word, tf-idf score, term frequency and document frequency."
   ]
  },
  {
   "cell_type": "code",
   "execution_count": 79,
   "metadata": {
    "id": "KhBa95Ra5RrC"
   },
   "outputs": [],
   "source": [
    "term_frequencies = []\n",
    "for word in sorted_document_words:\n",
    "  term_frequencies.append(X_train_preprocessed[random_number].count(word))"
   ]
  },
  {
   "cell_type": "code",
   "execution_count": 80,
   "metadata": {
    "id": "-6PTDObm173U"
   },
   "outputs": [],
   "source": [
    "document_frequencies = {} # initialize\n",
    "for word in sorted_document_words:\n",
    "  document_frequencies[word] = 0"
   ]
  },
  {
   "cell_type": "code",
   "execution_count": 81,
   "metadata": {
    "id": "AS2YL5MG8Fu0"
   },
   "outputs": [],
   "source": [
    "for document in X_train_preprocessed: # compute\n",
    "  for word in sorted_document_words:\n",
    "    if word in document:\n",
    "      document_frequencies[word] += 1"
   ]
  },
  {
   "cell_type": "code",
   "execution_count": 82,
   "metadata": {
    "id": "HhTBH6Qs9uDk"
   },
   "outputs": [],
   "source": [
    "document_words_informations = [] # put together\n",
    "for i in range(len(sorted_document_words)):\n",
    "  document_words_informations.append(\n",
    "      (sorted_document_words[i],\n",
    "      ascending_sorted_weights[i],\n",
    "      term_frequencies[i],\n",
    "      document_frequencies[sorted_document_words[i]])\n",
    "      )"
   ]
  },
  {
   "cell_type": "markdown",
   "metadata": {
    "id": "U49jO_AtLpBi"
   },
   "source": [
    "As a list :"
   ]
  },
  {
   "cell_type": "code",
   "execution_count": 83,
   "metadata": {
    "colab": {
     "base_uri": "https://localhost:8080/"
    },
    "id": "pYTfbk4ELVZN",
    "outputId": "4287b332-5f78-4c8e-ac99-232c45cec68b"
   },
   "outputs": [
    {
     "name": "stdout",
     "output_type": "stream",
     "text": [
      "\n",
      "most important words :\n",
      "[('from', 0.012058230086592904, 1, 2117),\n",
      " ('subject', 0.012058230086592904, 1, 2117),\n",
      " ('lines', 0.012081024479177768, 1, 2113),\n",
      " ('organization', 0.012540275056889472, 1, 2034),\n",
      " ('of', 0.014168216689295618, 1, 1847)]\n",
      "\n",
      "least important words :\n",
      "[('bredell', 0.4802238573273034, 5, 1),\n",
      " ('udac', 0.38417908586184274, 4, 2),\n",
      " ('mats', 0.3831889940362227, 5, 41),\n",
      " ('uu', 0.20483901186053868, 3, 177),\n",
      " ('uppsala', 0.19208954293092137, 2, 1)]\n"
     ]
    },
    {
     "data": {
      "text/plain": [
       "(None, None)"
      ]
     },
     "execution_count": 83,
     "metadata": {},
     "output_type": "execute_result"
    }
   ],
   "source": [
    "print('\\nmost important words :'), pprint(document_words_informations[::-1][:5])\n",
    "print('\\nleast important words :'), pprint(document_words_informations[:5])"
   ]
  },
  {
   "cell_type": "markdown",
   "metadata": {
    "id": "5BhSS1ohLrVt"
   },
   "source": [
    "As a DataFrame :"
   ]
  },
  {
   "cell_type": "code",
   "execution_count": 84,
   "metadata": {
    "id": "sa1uMRE9LtKG"
   },
   "outputs": [],
   "source": [
    "document_words_informations_pandas = { # for DataFrame\n",
    "    'word': [x[0] for x in document_words_informations],\n",
    "    'tf-idf weight': [x[1] for x in document_words_informations],\n",
    "    'term frequency': [x[2] for x in document_words_informations],\n",
    "    'document frequency': [x[3] for x in document_words_informations]\n",
    "    }"
   ]
  },
  {
   "cell_type": "code",
   "execution_count": 104,
   "metadata": {
    "colab": {
     "base_uri": "https://localhost:8080/",
     "height": 363
    },
    "id": "QwdtliIZLvbD",
    "outputId": "4f822c1c-aba7-49c7-e50c-db00ea9ff886"
   },
   "outputs": [
    {
     "data": {
      "text/html": [
       "\n",
       "  <div id=\"df-0b39bdbb-2e37-46f2-a5e1-aa3dd1adb1fa\" class=\"colab-df-container\">\n",
       "    <div>\n",
       "<style scoped>\n",
       "    .dataframe tbody tr th:only-of-type {\n",
       "        vertical-align: middle;\n",
       "    }\n",
       "\n",
       "    .dataframe tbody tr th {\n",
       "        vertical-align: top;\n",
       "    }\n",
       "\n",
       "    .dataframe thead th {\n",
       "        text-align: right;\n",
       "    }\n",
       "</style>\n",
       "<table border=\"1\" class=\"dataframe\">\n",
       "  <thead>\n",
       "    <tr style=\"text-align: right;\">\n",
       "      <th></th>\n",
       "      <th>word</th>\n",
       "      <th>tf-idf weight</th>\n",
       "      <th>term frequency</th>\n",
       "      <th>document frequency</th>\n",
       "    </tr>\n",
       "  </thead>\n",
       "  <tbody>\n",
       "    <tr>\n",
       "      <th>0</th>\n",
       "      <td>bredell</td>\n",
       "      <td>0.480224</td>\n",
       "      <td>5</td>\n",
       "      <td>1</td>\n",
       "    </tr>\n",
       "    <tr>\n",
       "      <th>1</th>\n",
       "      <td>udac</td>\n",
       "      <td>0.384179</td>\n",
       "      <td>4</td>\n",
       "      <td>2</td>\n",
       "    </tr>\n",
       "    <tr>\n",
       "      <th>2</th>\n",
       "      <td>mats</td>\n",
       "      <td>0.383189</td>\n",
       "      <td>5</td>\n",
       "      <td>41</td>\n",
       "    </tr>\n",
       "    <tr>\n",
       "      <th>3</th>\n",
       "      <td>uu</td>\n",
       "      <td>0.204839</td>\n",
       "      <td>3</td>\n",
       "      <td>177</td>\n",
       "    </tr>\n",
       "    <tr>\n",
       "      <th>4</th>\n",
       "      <td>uppsala</td>\n",
       "      <td>0.192090</td>\n",
       "      <td>2</td>\n",
       "      <td>1</td>\n",
       "    </tr>\n",
       "    <tr>\n",
       "      <th>5</th>\n",
       "      <td>umcc</td>\n",
       "      <td>0.161877</td>\n",
       "      <td>2</td>\n",
       "      <td>6</td>\n",
       "    </tr>\n",
       "    <tr>\n",
       "      <th>6</th>\n",
       "      <td>se</td>\n",
       "      <td>0.158003</td>\n",
       "      <td>5</td>\n",
       "      <td>1946</td>\n",
       "    </tr>\n",
       "    <tr>\n",
       "      <th>7</th>\n",
       "      <td>quadra</td>\n",
       "      <td>0.156546</td>\n",
       "      <td>3</td>\n",
       "      <td>78</td>\n",
       "    </tr>\n",
       "    <tr>\n",
       "      <th>8</th>\n",
       "      <td>900</td>\n",
       "      <td>0.141941</td>\n",
       "      <td>2</td>\n",
       "      <td>70</td>\n",
       "    </tr>\n",
       "    <tr>\n",
       "      <th>9</th>\n",
       "      <td>monitor</td>\n",
       "      <td>0.138258</td>\n",
       "      <td>3</td>\n",
       "      <td>146</td>\n",
       "    </tr>\n",
       "  </tbody>\n",
       "</table>\n",
       "</div>\n",
       "    <div class=\"colab-df-buttons\">\n",
       "\n",
       "  <div class=\"colab-df-container\">\n",
       "    <button class=\"colab-df-convert\" onclick=\"convertToInteractive('df-0b39bdbb-2e37-46f2-a5e1-aa3dd1adb1fa')\"\n",
       "            title=\"Convert this dataframe to an interactive table.\"\n",
       "            style=\"display:none;\">\n",
       "\n",
       "  <svg xmlns=\"http://www.w3.org/2000/svg\" height=\"24px\" viewBox=\"0 -960 960 960\">\n",
       "    <path d=\"M120-120v-720h720v720H120Zm60-500h600v-160H180v160Zm220 220h160v-160H400v160Zm0 220h160v-160H400v160ZM180-400h160v-160H180v160Zm440 0h160v-160H620v160ZM180-180h160v-160H180v160Zm440 0h160v-160H620v160Z\"/>\n",
       "  </svg>\n",
       "    </button>\n",
       "\n",
       "  <style>\n",
       "    .colab-df-container {\n",
       "      display:flex;\n",
       "      gap: 12px;\n",
       "    }\n",
       "\n",
       "    .colab-df-convert {\n",
       "      background-color: #E8F0FE;\n",
       "      border: none;\n",
       "      border-radius: 50%;\n",
       "      cursor: pointer;\n",
       "      display: none;\n",
       "      fill: #1967D2;\n",
       "      height: 32px;\n",
       "      padding: 0 0 0 0;\n",
       "      width: 32px;\n",
       "    }\n",
       "\n",
       "    .colab-df-convert:hover {\n",
       "      background-color: #E2EBFA;\n",
       "      box-shadow: 0px 1px 2px rgba(60, 64, 67, 0.3), 0px 1px 3px 1px rgba(60, 64, 67, 0.15);\n",
       "      fill: #174EA6;\n",
       "    }\n",
       "\n",
       "    .colab-df-buttons div {\n",
       "      margin-bottom: 4px;\n",
       "    }\n",
       "\n",
       "    [theme=dark] .colab-df-convert {\n",
       "      background-color: #3B4455;\n",
       "      fill: #D2E3FC;\n",
       "    }\n",
       "\n",
       "    [theme=dark] .colab-df-convert:hover {\n",
       "      background-color: #434B5C;\n",
       "      box-shadow: 0px 1px 3px 1px rgba(0, 0, 0, 0.15);\n",
       "      filter: drop-shadow(0px 1px 2px rgba(0, 0, 0, 0.3));\n",
       "      fill: #FFFFFF;\n",
       "    }\n",
       "  </style>\n",
       "\n",
       "    <script>\n",
       "      const buttonEl =\n",
       "        document.querySelector('#df-0b39bdbb-2e37-46f2-a5e1-aa3dd1adb1fa button.colab-df-convert');\n",
       "      buttonEl.style.display =\n",
       "        google.colab.kernel.accessAllowed ? 'block' : 'none';\n",
       "\n",
       "      async function convertToInteractive(key) {\n",
       "        const element = document.querySelector('#df-0b39bdbb-2e37-46f2-a5e1-aa3dd1adb1fa');\n",
       "        const dataTable =\n",
       "          await google.colab.kernel.invokeFunction('convertToInteractive',\n",
       "                                                    [key], {});\n",
       "        if (!dataTable) return;\n",
       "\n",
       "        const docLinkHtml = 'Like what you see? Visit the ' +\n",
       "          '<a target=\"_blank\" href=https://colab.research.google.com/notebooks/data_table.ipynb>data table notebook</a>'\n",
       "          + ' to learn more about interactive tables.';\n",
       "        element.innerHTML = '';\n",
       "        dataTable['output_type'] = 'display_data';\n",
       "        await google.colab.output.renderOutput(dataTable, element);\n",
       "        const docLink = document.createElement('div');\n",
       "        docLink.innerHTML = docLinkHtml;\n",
       "        element.appendChild(docLink);\n",
       "      }\n",
       "    </script>\n",
       "  </div>\n",
       "\n",
       "\n",
       "<div id=\"df-666d1ecd-9bd9-4ba0-95af-233a584d673e\">\n",
       "  <button class=\"colab-df-quickchart\" onclick=\"quickchart('df-666d1ecd-9bd9-4ba0-95af-233a584d673e')\"\n",
       "            title=\"Suggest charts.\"\n",
       "            style=\"display:none;\">\n",
       "\n",
       "<svg xmlns=\"http://www.w3.org/2000/svg\" height=\"24px\"viewBox=\"0 0 24 24\"\n",
       "     width=\"24px\">\n",
       "    <g>\n",
       "        <path d=\"M19 3H5c-1.1 0-2 .9-2 2v14c0 1.1.9 2 2 2h14c1.1 0 2-.9 2-2V5c0-1.1-.9-2-2-2zM9 17H7v-7h2v7zm4 0h-2V7h2v10zm4 0h-2v-4h2v4z\"/>\n",
       "    </g>\n",
       "</svg>\n",
       "  </button>\n",
       "\n",
       "<style>\n",
       "  .colab-df-quickchart {\n",
       "      --bg-color: #E8F0FE;\n",
       "      --fill-color: #1967D2;\n",
       "      --hover-bg-color: #E2EBFA;\n",
       "      --hover-fill-color: #174EA6;\n",
       "      --disabled-fill-color: #AAA;\n",
       "      --disabled-bg-color: #DDD;\n",
       "  }\n",
       "\n",
       "  [theme=dark] .colab-df-quickchart {\n",
       "      --bg-color: #3B4455;\n",
       "      --fill-color: #D2E3FC;\n",
       "      --hover-bg-color: #434B5C;\n",
       "      --hover-fill-color: #FFFFFF;\n",
       "      --disabled-bg-color: #3B4455;\n",
       "      --disabled-fill-color: #666;\n",
       "  }\n",
       "\n",
       "  .colab-df-quickchart {\n",
       "    background-color: var(--bg-color);\n",
       "    border: none;\n",
       "    border-radius: 50%;\n",
       "    cursor: pointer;\n",
       "    display: none;\n",
       "    fill: var(--fill-color);\n",
       "    height: 32px;\n",
       "    padding: 0;\n",
       "    width: 32px;\n",
       "  }\n",
       "\n",
       "  .colab-df-quickchart:hover {\n",
       "    background-color: var(--hover-bg-color);\n",
       "    box-shadow: 0 1px 2px rgba(60, 64, 67, 0.3), 0 1px 3px 1px rgba(60, 64, 67, 0.15);\n",
       "    fill: var(--button-hover-fill-color);\n",
       "  }\n",
       "\n",
       "  .colab-df-quickchart-complete:disabled,\n",
       "  .colab-df-quickchart-complete:disabled:hover {\n",
       "    background-color: var(--disabled-bg-color);\n",
       "    fill: var(--disabled-fill-color);\n",
       "    box-shadow: none;\n",
       "  }\n",
       "\n",
       "  .colab-df-spinner {\n",
       "    border: 2px solid var(--fill-color);\n",
       "    border-color: transparent;\n",
       "    border-bottom-color: var(--fill-color);\n",
       "    animation:\n",
       "      spin 1s steps(1) infinite;\n",
       "  }\n",
       "\n",
       "  @keyframes spin {\n",
       "    0% {\n",
       "      border-color: transparent;\n",
       "      border-bottom-color: var(--fill-color);\n",
       "      border-left-color: var(--fill-color);\n",
       "    }\n",
       "    20% {\n",
       "      border-color: transparent;\n",
       "      border-left-color: var(--fill-color);\n",
       "      border-top-color: var(--fill-color);\n",
       "    }\n",
       "    30% {\n",
       "      border-color: transparent;\n",
       "      border-left-color: var(--fill-color);\n",
       "      border-top-color: var(--fill-color);\n",
       "      border-right-color: var(--fill-color);\n",
       "    }\n",
       "    40% {\n",
       "      border-color: transparent;\n",
       "      border-right-color: var(--fill-color);\n",
       "      border-top-color: var(--fill-color);\n",
       "    }\n",
       "    60% {\n",
       "      border-color: transparent;\n",
       "      border-right-color: var(--fill-color);\n",
       "    }\n",
       "    80% {\n",
       "      border-color: transparent;\n",
       "      border-right-color: var(--fill-color);\n",
       "      border-bottom-color: var(--fill-color);\n",
       "    }\n",
       "    90% {\n",
       "      border-color: transparent;\n",
       "      border-bottom-color: var(--fill-color);\n",
       "    }\n",
       "  }\n",
       "</style>\n",
       "\n",
       "  <script>\n",
       "    async function quickchart(key) {\n",
       "      const quickchartButtonEl =\n",
       "        document.querySelector('#' + key + ' button');\n",
       "      quickchartButtonEl.disabled = true;  // To prevent multiple clicks.\n",
       "      quickchartButtonEl.classList.add('colab-df-spinner');\n",
       "      try {\n",
       "        const charts = await google.colab.kernel.invokeFunction(\n",
       "            'suggestCharts', [key], {});\n",
       "      } catch (error) {\n",
       "        console.error('Error during call to suggestCharts:', error);\n",
       "      }\n",
       "      quickchartButtonEl.classList.remove('colab-df-spinner');\n",
       "      quickchartButtonEl.classList.add('colab-df-quickchart-complete');\n",
       "    }\n",
       "    (() => {\n",
       "      let quickchartButtonEl =\n",
       "        document.querySelector('#df-666d1ecd-9bd9-4ba0-95af-233a584d673e button');\n",
       "      quickchartButtonEl.style.display =\n",
       "        google.colab.kernel.accessAllowed ? 'block' : 'none';\n",
       "    })();\n",
       "  </script>\n",
       "</div>\n",
       "    </div>\n",
       "  </div>\n"
      ],
      "text/plain": [
       "      word  tf-idf weight  term frequency  document frequency\n",
       "0  bredell       0.480224               5                   1\n",
       "1     udac       0.384179               4                   2\n",
       "2     mats       0.383189               5                  41\n",
       "3       uu       0.204839               3                 177\n",
       "4  uppsala       0.192090               2                   1\n",
       "5     umcc       0.161877               2                   6\n",
       "6       se       0.158003               5                1946\n",
       "7   quadra       0.156546               3                  78\n",
       "8      900       0.141941               2                  70\n",
       "9  monitor       0.138258               3                 146"
      ]
     },
     "execution_count": 104,
     "metadata": {},
     "output_type": "execute_result"
    }
   ],
   "source": [
    "pd.DataFrame(document_words_informations_pandas).head(10)"
   ]
  },
  {
   "cell_type": "markdown",
   "metadata": {
    "id": "zhtD-ECsgp3b"
   },
   "source": [
    "---\n",
    "### Gather code in a function"
   ]
  },
  {
   "cell_type": "code",
   "execution_count": 98,
   "metadata": {
    "id": "CcvN_CMsgzNB"
   },
   "outputs": [],
   "source": [
    "def get_sorted_words(document_number):\n",
    "\n",
    "  document_tfidf = X_train_tfidf[document_number]\n",
    "  non_zero_values_indices = document_tfidf.toarray().nonzero()\n",
    "  non_zero_values = document_tfidf[non_zero_values_indices]\n",
    "\n",
    "  non_zero_values_array = np.squeeze(np.asarray(non_zero_values)) # matrix shape to array shape\n",
    "  ascending_sorted_weight_indices = non_zero_values_array.argsort()[::-1] # getting sorting indices (descending order)\n",
    "  ascending_sorted_weights = non_zero_values_array[ascending_sorted_weight_indices] # sorting weights vector\n",
    "\n",
    "  sorted_word_indices = non_zero_values_indices[1][ascending_sorted_weight_indices]\n",
    "\n",
    "  sorted_document_words = [i2w[x] for x in sorted_word_indices]\n",
    "  return sorted_document_words"
   ]
  },
  {
   "cell_type": "code",
   "execution_count": 87,
   "metadata": {
    "id": "VPMaiAHMhfbe"
   },
   "outputs": [],
   "source": [
    "def get_words_informations(document_number):\n",
    "\n",
    "  term_frequencies = []\n",
    "  for word in sorted_document_words:\n",
    "    term_frequencies.append(X_train_preprocessed[document_number].count(word))\n",
    "\n",
    "  document_frequencies = {} # initialize\n",
    "  for word in sorted_document_words:\n",
    "    document_frequencies[word] = 0\n",
    "\n",
    "  for document in X_train_preprocessed: # compute\n",
    "    for word in sorted_document_words:\n",
    "      if word in document:\n",
    "        document_frequencies[word] += 1\n",
    "\n",
    "  document_words_informations = [] # put together\n",
    "  for i in range(len(sorted_document_words)):\n",
    "    document_words_informations.append(\n",
    "        (sorted_document_words[i],\n",
    "        ascending_sorted_weights[i],\n",
    "        term_frequencies[i],\n",
    "        document_frequencies[sorted_document_words[i]])\n",
    "        )\n",
    "\n",
    "  return document_words_informations"
   ]
  },
  {
   "cell_type": "code",
   "execution_count": 88,
   "metadata": {
    "id": "hlcd2ZsUjDb9"
   },
   "outputs": [],
   "source": [
    "def as_dataframe(document_words_informations):\n",
    "\n",
    "  document_words_informations_pandas = { # for DataFrame\n",
    "    'word': [x[0] for x in document_words_informations],\n",
    "    'tf-idf weight': [x[1] for x in document_words_informations],\n",
    "    'term frequency': [x[2] for x in document_words_informations],\n",
    "    'document frequency': [x[3] for x in document_words_informations]\n",
    "    }\n",
    "\n",
    "  return pd.DataFrame(document_words_informations_pandas)"
   ]
  },
  {
   "cell_type": "markdown",
   "metadata": {
    "id": "hsWZJeEKghaY"
   },
   "source": [
    "---\n",
    "### Playground"
   ]
  },
  {
   "cell_type": "code",
   "execution_count": 105,
   "metadata": {
    "id": "bf0P8eIykqfg"
   },
   "outputs": [],
   "source": [
    "random_number = random.randrange(0,len(X_train)) # getting a random document\n",
    "document = X_train[random_number]\n",
    "splitted_document = document.split('\\n')"
   ]
  },
  {
   "cell_type": "code",
   "execution_count": 108,
   "metadata": {
    "colab": {
     "base_uri": "https://localhost:8080/"
    },
    "id": "7or-K6iCkBFi",
    "outputId": "44c21fb0-8c3b-47b5-9707-ca8f5fee6d8c"
   },
   "outputs": [
    {
     "data": {
      "text/plain": [
       "['From: tdawson@engin.umich.edu (Chris Herringshaw)',\n",
       " 'Subject: Newsgroup Split',\n",
       " 'Organization: University of Michigan Engineering, Ann Arbor',\n",
       " 'Lines: 11',\n",
       " 'Distribution: world',\n",
       " 'NNTP-Posting-Host: po.engin.umich.edu',\n",
       " '',\n",
       " 'Concerning the proposed newsgroup split, I personally am not in favor of',\n",
       " 'doing this.  I learn an awful lot about all aspects of graphics by reading',\n",
       " 'this group, from code to hardware to algorithms.  I just think making 5',\n",
       " 'different groups out of this is a wate, and will only result in a few posts',\n",
       " 'a week per group.  I kind of like the convenience of having one big forum',\n",
       " 'for discussing all aspects of graphics.  Anyone else feel this way?',\n",
       " 'Just curious.',\n",
       " '',\n",
       " '',\n",
       " 'Daemon',\n",
       " '',\n",
       " '']"
      ]
     },
     "execution_count": 108,
     "metadata": {},
     "output_type": "execute_result"
    }
   ],
   "source": [
    "splitted_document"
   ]
  },
  {
   "cell_type": "code",
   "execution_count": 106,
   "metadata": {
    "id": "lJ802JgvgkVN"
   },
   "outputs": [],
   "source": [
    "sorted_document_words = get_sorted_words(random_number)\n",
    "document_words_informations = get_words_informations(random_number)\n",
    "document_words_informations_pandas = as_dataframe(document_words_informations)"
   ]
  },
  {
   "cell_type": "code",
   "execution_count": 107,
   "metadata": {
    "colab": {
     "base_uri": "https://localhost:8080/",
     "height": 363
    },
    "id": "j1sGtk6ZizLI",
    "outputId": "67be4a6d-7d13-4dfb-81cc-773dcf516107"
   },
   "outputs": [
    {
     "data": {
      "text/html": [
       "\n",
       "  <div id=\"df-be0da16a-47f3-4412-92f6-03cfd8c4facd\" class=\"colab-df-container\">\n",
       "    <div>\n",
       "<style scoped>\n",
       "    .dataframe tbody tr th:only-of-type {\n",
       "        vertical-align: middle;\n",
       "    }\n",
       "\n",
       "    .dataframe tbody tr th {\n",
       "        vertical-align: top;\n",
       "    }\n",
       "\n",
       "    .dataframe thead th {\n",
       "        text-align: right;\n",
       "    }\n",
       "</style>\n",
       "<table border=\"1\" class=\"dataframe\">\n",
       "  <thead>\n",
       "    <tr style=\"text-align: right;\">\n",
       "      <th></th>\n",
       "      <th>word</th>\n",
       "      <th>tf-idf weight</th>\n",
       "      <th>term frequency</th>\n",
       "      <th>document frequency</th>\n",
       "    </tr>\n",
       "  </thead>\n",
       "  <tbody>\n",
       "    <tr>\n",
       "      <th>0</th>\n",
       "      <td>aspects</td>\n",
       "      <td>0.480224</td>\n",
       "      <td>2</td>\n",
       "      <td>21</td>\n",
       "    </tr>\n",
       "    <tr>\n",
       "      <th>1</th>\n",
       "      <td>split</td>\n",
       "      <td>0.384179</td>\n",
       "      <td>2</td>\n",
       "      <td>31</td>\n",
       "    </tr>\n",
       "    <tr>\n",
       "      <th>2</th>\n",
       "      <td>engin</td>\n",
       "      <td>0.383189</td>\n",
       "      <td>3</td>\n",
       "      <td>173</td>\n",
       "    </tr>\n",
       "    <tr>\n",
       "      <th>3</th>\n",
       "      <td>umich</td>\n",
       "      <td>0.204839</td>\n",
       "      <td>2</td>\n",
       "      <td>54</td>\n",
       "    </tr>\n",
       "    <tr>\n",
       "      <th>4</th>\n",
       "      <td>newsgroup</td>\n",
       "      <td>0.192090</td>\n",
       "      <td>2</td>\n",
       "      <td>84</td>\n",
       "    </tr>\n",
       "    <tr>\n",
       "      <th>5</th>\n",
       "      <td>of</td>\n",
       "      <td>0.161877</td>\n",
       "      <td>7</td>\n",
       "      <td>1847</td>\n",
       "    </tr>\n",
       "    <tr>\n",
       "      <th>6</th>\n",
       "      <td>group</td>\n",
       "      <td>0.158003</td>\n",
       "      <td>5</td>\n",
       "      <td>262</td>\n",
       "    </tr>\n",
       "    <tr>\n",
       "      <th>7</th>\n",
       "      <td>graphics</td>\n",
       "      <td>0.156546</td>\n",
       "      <td>2</td>\n",
       "      <td>229</td>\n",
       "    </tr>\n",
       "    <tr>\n",
       "      <th>8</th>\n",
       "      <td>this</td>\n",
       "      <td>0.141941</td>\n",
       "      <td>4</td>\n",
       "      <td>1206</td>\n",
       "    </tr>\n",
       "    <tr>\n",
       "      <th>9</th>\n",
       "      <td>wate</td>\n",
       "      <td>0.138258</td>\n",
       "      <td>1</td>\n",
       "      <td>53</td>\n",
       "    </tr>\n",
       "  </tbody>\n",
       "</table>\n",
       "</div>\n",
       "    <div class=\"colab-df-buttons\">\n",
       "\n",
       "  <div class=\"colab-df-container\">\n",
       "    <button class=\"colab-df-convert\" onclick=\"convertToInteractive('df-be0da16a-47f3-4412-92f6-03cfd8c4facd')\"\n",
       "            title=\"Convert this dataframe to an interactive table.\"\n",
       "            style=\"display:none;\">\n",
       "\n",
       "  <svg xmlns=\"http://www.w3.org/2000/svg\" height=\"24px\" viewBox=\"0 -960 960 960\">\n",
       "    <path d=\"M120-120v-720h720v720H120Zm60-500h600v-160H180v160Zm220 220h160v-160H400v160Zm0 220h160v-160H400v160ZM180-400h160v-160H180v160Zm440 0h160v-160H620v160ZM180-180h160v-160H180v160Zm440 0h160v-160H620v160Z\"/>\n",
       "  </svg>\n",
       "    </button>\n",
       "\n",
       "  <style>\n",
       "    .colab-df-container {\n",
       "      display:flex;\n",
       "      gap: 12px;\n",
       "    }\n",
       "\n",
       "    .colab-df-convert {\n",
       "      background-color: #E8F0FE;\n",
       "      border: none;\n",
       "      border-radius: 50%;\n",
       "      cursor: pointer;\n",
       "      display: none;\n",
       "      fill: #1967D2;\n",
       "      height: 32px;\n",
       "      padding: 0 0 0 0;\n",
       "      width: 32px;\n",
       "    }\n",
       "\n",
       "    .colab-df-convert:hover {\n",
       "      background-color: #E2EBFA;\n",
       "      box-shadow: 0px 1px 2px rgba(60, 64, 67, 0.3), 0px 1px 3px 1px rgba(60, 64, 67, 0.15);\n",
       "      fill: #174EA6;\n",
       "    }\n",
       "\n",
       "    .colab-df-buttons div {\n",
       "      margin-bottom: 4px;\n",
       "    }\n",
       "\n",
       "    [theme=dark] .colab-df-convert {\n",
       "      background-color: #3B4455;\n",
       "      fill: #D2E3FC;\n",
       "    }\n",
       "\n",
       "    [theme=dark] .colab-df-convert:hover {\n",
       "      background-color: #434B5C;\n",
       "      box-shadow: 0px 1px 3px 1px rgba(0, 0, 0, 0.15);\n",
       "      filter: drop-shadow(0px 1px 2px rgba(0, 0, 0, 0.3));\n",
       "      fill: #FFFFFF;\n",
       "    }\n",
       "  </style>\n",
       "\n",
       "    <script>\n",
       "      const buttonEl =\n",
       "        document.querySelector('#df-be0da16a-47f3-4412-92f6-03cfd8c4facd button.colab-df-convert');\n",
       "      buttonEl.style.display =\n",
       "        google.colab.kernel.accessAllowed ? 'block' : 'none';\n",
       "\n",
       "      async function convertToInteractive(key) {\n",
       "        const element = document.querySelector('#df-be0da16a-47f3-4412-92f6-03cfd8c4facd');\n",
       "        const dataTable =\n",
       "          await google.colab.kernel.invokeFunction('convertToInteractive',\n",
       "                                                    [key], {});\n",
       "        if (!dataTable) return;\n",
       "\n",
       "        const docLinkHtml = 'Like what you see? Visit the ' +\n",
       "          '<a target=\"_blank\" href=https://colab.research.google.com/notebooks/data_table.ipynb>data table notebook</a>'\n",
       "          + ' to learn more about interactive tables.';\n",
       "        element.innerHTML = '';\n",
       "        dataTable['output_type'] = 'display_data';\n",
       "        await google.colab.output.renderOutput(dataTable, element);\n",
       "        const docLink = document.createElement('div');\n",
       "        docLink.innerHTML = docLinkHtml;\n",
       "        element.appendChild(docLink);\n",
       "      }\n",
       "    </script>\n",
       "  </div>\n",
       "\n",
       "\n",
       "<div id=\"df-ace6bb98-3fcd-4fcc-80fc-0f75c8df4f75\">\n",
       "  <button class=\"colab-df-quickchart\" onclick=\"quickchart('df-ace6bb98-3fcd-4fcc-80fc-0f75c8df4f75')\"\n",
       "            title=\"Suggest charts.\"\n",
       "            style=\"display:none;\">\n",
       "\n",
       "<svg xmlns=\"http://www.w3.org/2000/svg\" height=\"24px\"viewBox=\"0 0 24 24\"\n",
       "     width=\"24px\">\n",
       "    <g>\n",
       "        <path d=\"M19 3H5c-1.1 0-2 .9-2 2v14c0 1.1.9 2 2 2h14c1.1 0 2-.9 2-2V5c0-1.1-.9-2-2-2zM9 17H7v-7h2v7zm4 0h-2V7h2v10zm4 0h-2v-4h2v4z\"/>\n",
       "    </g>\n",
       "</svg>\n",
       "  </button>\n",
       "\n",
       "<style>\n",
       "  .colab-df-quickchart {\n",
       "      --bg-color: #E8F0FE;\n",
       "      --fill-color: #1967D2;\n",
       "      --hover-bg-color: #E2EBFA;\n",
       "      --hover-fill-color: #174EA6;\n",
       "      --disabled-fill-color: #AAA;\n",
       "      --disabled-bg-color: #DDD;\n",
       "  }\n",
       "\n",
       "  [theme=dark] .colab-df-quickchart {\n",
       "      --bg-color: #3B4455;\n",
       "      --fill-color: #D2E3FC;\n",
       "      --hover-bg-color: #434B5C;\n",
       "      --hover-fill-color: #FFFFFF;\n",
       "      --disabled-bg-color: #3B4455;\n",
       "      --disabled-fill-color: #666;\n",
       "  }\n",
       "\n",
       "  .colab-df-quickchart {\n",
       "    background-color: var(--bg-color);\n",
       "    border: none;\n",
       "    border-radius: 50%;\n",
       "    cursor: pointer;\n",
       "    display: none;\n",
       "    fill: var(--fill-color);\n",
       "    height: 32px;\n",
       "    padding: 0;\n",
       "    width: 32px;\n",
       "  }\n",
       "\n",
       "  .colab-df-quickchart:hover {\n",
       "    background-color: var(--hover-bg-color);\n",
       "    box-shadow: 0 1px 2px rgba(60, 64, 67, 0.3), 0 1px 3px 1px rgba(60, 64, 67, 0.15);\n",
       "    fill: var(--button-hover-fill-color);\n",
       "  }\n",
       "\n",
       "  .colab-df-quickchart-complete:disabled,\n",
       "  .colab-df-quickchart-complete:disabled:hover {\n",
       "    background-color: var(--disabled-bg-color);\n",
       "    fill: var(--disabled-fill-color);\n",
       "    box-shadow: none;\n",
       "  }\n",
       "\n",
       "  .colab-df-spinner {\n",
       "    border: 2px solid var(--fill-color);\n",
       "    border-color: transparent;\n",
       "    border-bottom-color: var(--fill-color);\n",
       "    animation:\n",
       "      spin 1s steps(1) infinite;\n",
       "  }\n",
       "\n",
       "  @keyframes spin {\n",
       "    0% {\n",
       "      border-color: transparent;\n",
       "      border-bottom-color: var(--fill-color);\n",
       "      border-left-color: var(--fill-color);\n",
       "    }\n",
       "    20% {\n",
       "      border-color: transparent;\n",
       "      border-left-color: var(--fill-color);\n",
       "      border-top-color: var(--fill-color);\n",
       "    }\n",
       "    30% {\n",
       "      border-color: transparent;\n",
       "      border-left-color: var(--fill-color);\n",
       "      border-top-color: var(--fill-color);\n",
       "      border-right-color: var(--fill-color);\n",
       "    }\n",
       "    40% {\n",
       "      border-color: transparent;\n",
       "      border-right-color: var(--fill-color);\n",
       "      border-top-color: var(--fill-color);\n",
       "    }\n",
       "    60% {\n",
       "      border-color: transparent;\n",
       "      border-right-color: var(--fill-color);\n",
       "    }\n",
       "    80% {\n",
       "      border-color: transparent;\n",
       "      border-right-color: var(--fill-color);\n",
       "      border-bottom-color: var(--fill-color);\n",
       "    }\n",
       "    90% {\n",
       "      border-color: transparent;\n",
       "      border-bottom-color: var(--fill-color);\n",
       "    }\n",
       "  }\n",
       "</style>\n",
       "\n",
       "  <script>\n",
       "    async function quickchart(key) {\n",
       "      const quickchartButtonEl =\n",
       "        document.querySelector('#' + key + ' button');\n",
       "      quickchartButtonEl.disabled = true;  // To prevent multiple clicks.\n",
       "      quickchartButtonEl.classList.add('colab-df-spinner');\n",
       "      try {\n",
       "        const charts = await google.colab.kernel.invokeFunction(\n",
       "            'suggestCharts', [key], {});\n",
       "      } catch (error) {\n",
       "        console.error('Error during call to suggestCharts:', error);\n",
       "      }\n",
       "      quickchartButtonEl.classList.remove('colab-df-spinner');\n",
       "      quickchartButtonEl.classList.add('colab-df-quickchart-complete');\n",
       "    }\n",
       "    (() => {\n",
       "      let quickchartButtonEl =\n",
       "        document.querySelector('#df-ace6bb98-3fcd-4fcc-80fc-0f75c8df4f75 button');\n",
       "      quickchartButtonEl.style.display =\n",
       "        google.colab.kernel.accessAllowed ? 'block' : 'none';\n",
       "    })();\n",
       "  </script>\n",
       "</div>\n",
       "    </div>\n",
       "  </div>\n"
      ],
      "text/plain": [
       "        word  tf-idf weight  term frequency  document frequency\n",
       "0    aspects       0.480224               2                  21\n",
       "1      split       0.384179               2                  31\n",
       "2      engin       0.383189               3                 173\n",
       "3      umich       0.204839               2                  54\n",
       "4  newsgroup       0.192090               2                  84\n",
       "5         of       0.161877               7                1847\n",
       "6      group       0.158003               5                 262\n",
       "7   graphics       0.156546               2                 229\n",
       "8       this       0.141941               4                1206\n",
       "9       wate       0.138258               1                  53"
      ]
     },
     "execution_count": 107,
     "metadata": {},
     "output_type": "execute_result"
    }
   ],
   "source": [
    "document_words_informations_pandas.head(10)"
   ]
  },
  {
   "cell_type": "markdown",
   "metadata": {
    "id": "T0CtYXvtgXiR"
   },
   "source": [
    "\n",
    "\n",
    "---\n",
    "\n",
    "### Learned code"
   ]
  },
  {
   "cell_type": "markdown",
   "metadata": {
    "id": "HiwkfRNVkKDj"
   },
   "source": [
    "\n",
    "\n",
    "*   **np.array.nonzero()**  \n",
    "\n",
    "Returns indices of an array's non-zero values. Useful when working with sparse vectors like bag-of-words.\n",
    "\n",
    "\n"
   ]
  },
  {
   "cell_type": "code",
   "execution_count": 91,
   "metadata": {
    "colab": {
     "base_uri": "https://localhost:8080/"
    },
    "id": "U1ZMUqKCSkYg",
    "outputId": "b97a958a-ce6d-4079-da3d-761dbd16fb84"
   },
   "outputs": [
    {
     "name": "stdout",
     "output_type": "stream",
     "text": [
      "final shape: (44,)\n",
      "initial shape:\n"
     ]
    },
    {
     "data": {
      "text/plain": [
       "<1x55351 sparse matrix of type '<class 'numpy.int64'>'\n",
       "\twith 44 stored elements in Compressed Sparse Row format>"
      ]
     },
     "execution_count": 91,
     "metadata": {},
     "output_type": "execute_result"
    }
   ],
   "source": [
    "print('final shape:', X_train_bow[0].toarray().flatten().nonzero()[0].shape)\n",
    "print('initial shape:')\n",
    "X_train_bow[0]"
   ]
  },
  {
   "cell_type": "markdown",
   "metadata": {
    "id": "l69pso2akdpy"
   },
   "source": [
    "We can see that final shape corresponds to number of stored\n",
    "elements in the initial sparse matrix.\n",
    "\n",
    "notes : Here, we need to turn the matrix to array and flatten it to 1D array .\n",
    "nonzero() returns a tuple with empty element in 2nd position hence the final [0] to get the wanted vector."
   ]
  },
  {
   "cell_type": "markdown",
   "metadata": {
    "id": "bVlTf6_xgcWt"
   },
   "source": [
    "\n",
    "\n",
    "*   **np.ndarray.argsort()**\n",
    "\n",
    "Returns the indices that would sort an array. Example below."
   ]
  },
  {
   "cell_type": "code",
   "execution_count": 92,
   "metadata": {
    "colab": {
     "base_uri": "https://localhost:8080/"
    },
    "id": "ZpXHDXZLg3dv",
    "outputId": "059b6fe2-882a-461c-e2b6-1ccdde3aa478"
   },
   "outputs": [
    {
     "name": "stdout",
     "output_type": "stream",
     "text": [
      "initial array : [ 6  5  2  4  8  2  6  9 74  1]\n",
      "indices that would sort the array : [9 2 5 3 1 0 6 4 7 8]\n",
      "sorted array : [1, 2, 2, 4, 5, 6, 6, 8, 9, 74]\n"
     ]
    }
   ],
   "source": [
    "a = np.array([6,5,2,4,8,2,6,9,74,1])\n",
    "print('initial array :', a)\n",
    "b = a.argsort()\n",
    "print('indices that would sort the array :', b)\n",
    "c = [a[x] for x in b] # to get descending order, apply [::-1] to the list\n",
    "print('sorted array :', c)"
   ]
  },
  {
   "cell_type": "markdown",
   "metadata": {
    "id": "_KKYaYl1lmTf"
   },
   "source": [
    "\n",
    "\n",
    "*   **CountVectorizer.build_analyzer(text)**\n",
    "\n",
    "The text preprocessing \"hidden\" function of the CountVectorizer (automatically applied at fitting).  \n",
    "Tokenizes text by splitting on punctuation and gets rid of tokens < 2 characters.\n",
    "\n"
   ]
  },
  {
   "cell_type": "code",
   "execution_count": 93,
   "metadata": {
    "colab": {
     "base_uri": "https://localhost:8080/",
     "height": 0
    },
    "id": "66JmCsickmgQ",
    "outputId": "dcfa0bf3-0bf5-4b2c-da29-1708364c25e3"
   },
   "outputs": [
    {
     "data": {
      "application/vnd.google.colaboratory.intrinsic+json": {
       "type": "string"
      },
      "text/plain": [
       "'From: joel@tekgen.bv.tek.com (Joseph Look)\\nSubject: Bar code fonts\\nOrganization: Tektronix, Inc.\\nLines: 3\\n\\nI am looking for some bar code fonts especially code 3 of 9. Did anybody\\nknow  any ftp sites or BBS that I can download these types of fonts? \\nPlease email to me if you have any info.  Thanks!\\n'"
      ]
     },
     "execution_count": 93,
     "metadata": {},
     "output_type": "execute_result"
    }
   ],
   "source": [
    "text_sample = X_train[0][:500]\n",
    "text_sample"
   ]
  },
  {
   "cell_type": "code",
   "execution_count": 94,
   "metadata": {
    "colab": {
     "base_uri": "https://localhost:8080/",
     "height": 0
    },
    "id": "eglqYimYk11m",
    "outputId": "2e6273fe-15dd-4562-a21e-b3c7e9e4189e"
   },
   "outputs": [
    {
     "data": {
      "application/vnd.google.colaboratory.intrinsic+json": {
       "type": "string"
      },
      "text/plain": [
       "'from joel tekgen bv tek com joseph look subject bar code fonts organization tektronix inc lines am looking for some bar code fonts especially code of did anybody know any ftp sites or bbs that can download these types of fonts please email to me if you have any info thanks'"
      ]
     },
     "execution_count": 94,
     "metadata": {},
     "output_type": "execute_result"
    }
   ],
   "source": [
    "analyzer = vectorizer.build_analyzer()\n",
    "' '.join(analyzer(text_sample))"
   ]
  },
  {
   "cell_type": "markdown",
   "metadata": {
    "id": "a0J1EJ1TmVSl"
   },
   "source": [
    "\n",
    "\n",
    "*   **TfidfTransformer.idf_**\n",
    "\n",
    "Returns the idf computed weights after fitting."
   ]
  },
  {
   "cell_type": "code",
   "execution_count": 95,
   "metadata": {
    "colab": {
     "base_uri": "https://localhost:8080/"
    },
    "id": "c3qoBsYkmtLY",
    "outputId": "a1d2a3c0-6e38-42f9-c4fc-87bedea2e904"
   },
   "outputs": [
    {
     "name": "stdout",
     "output_type": "stream",
     "text": [
      "(55351,)\n"
     ]
    },
    {
     "data": {
      "text/plain": [
       "array([4.76640723, 5.32602302, 7.96508035, ..., 7.96508035, 7.96508035,\n",
       "       7.96508035])"
      ]
     },
     "execution_count": 95,
     "metadata": {},
     "output_type": "execute_result"
    }
   ],
   "source": [
    "print(tf_idf.idf_.shape) # vocabulary size\n",
    "tf_idf.idf_"
   ]
  },
  {
   "cell_type": "markdown",
   "metadata": {
    "id": "BL-YPJJljRif"
   },
   "source": [
    "\n",
    "\n",
    "*   **CountVectorizer.get_feature_names_out()**\n",
    "\n",
    "Returns the vocabulary's words in alphabetic order."
   ]
  },
  {
   "cell_type": "code",
   "execution_count": 96,
   "metadata": {
    "colab": {
     "base_uri": "https://localhost:8080/"
    },
    "id": "v-dpjN4SSSOv",
    "outputId": "a491f9c4-ff36-42ce-d9d6-8c3fa81aac40"
   },
   "outputs": [
    {
     "data": {
      "text/plain": [
       "array(['00', '000', '000005102000', ..., 'zzzoh', 'zzzz', 'ªl'],\n",
       "      dtype=object)"
      ]
     },
     "execution_count": 96,
     "metadata": {},
     "output_type": "execute_result"
    }
   ],
   "source": [
    "feature_array = np.array(vectorizer.get_feature_names_out())\n",
    "feature_array"
   ]
  }
 ],
 "metadata": {
  "colab": {
   "collapsed_sections": [
    "T0CtYXvtgXiR"
   ],
   "provenance": [],
   "toc_visible": true
  },
  "kernelspec": {
   "display_name": "Python 3 (ipykernel)",
   "language": "python",
   "name": "python3"
  },
  "language_info": {
   "codemirror_mode": {
    "name": "ipython",
    "version": 3
   },
   "file_extension": ".py",
   "mimetype": "text/x-python",
   "name": "python",
   "nbconvert_exporter": "python",
   "pygments_lexer": "ipython3",
   "version": "3.10.12"
  }
 },
 "nbformat": 4,
 "nbformat_minor": 1
}
